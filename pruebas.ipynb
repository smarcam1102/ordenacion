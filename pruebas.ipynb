{
 "cells": [
  {
   "cell_type": "code",
   "execution_count": 2,
   "metadata": {},
   "outputs": [],
   "source": [
    "import pygame"
   ]
  },
  {
   "cell_type": "code",
   "execution_count": 15,
   "metadata": {},
   "outputs": [],
   "source": [
    "n =[]\n",
    "def swap(i):\n",
    "    a= n[i]\n",
    "    n[i] = n[i+1]\n",
    "    n[i+1] = a\n",
    "\n",
    "def agregarNumero():\n",
    "    global n\n",
    "    n.append(int(tNumero.getText()))\n",
    "    tResultado.setText(n)\n",
    "\n",
    "def ordenar():\n",
    "    parar = 0\n",
    "    global contador\n",
    "    global n\n",
    "    for i in range(len(n)-1):\n",
    "        parar = -1\n",
    "        for j in range(len(n)-1):\n",
    "            if n[j]>n[j+1]:\n",
    "                swap(j)\n",
    "                contador +=1\n",
    "                parar = 0\n",
    "        if parar ==1:\n",
    "            break\n",
    "    tResultado.setText(n)"
   ]
  },
  {
   "cell_type": "code",
   "execution_count": 3,
   "metadata": {},
   "outputs": [],
   "source": [
    "import pygame_widgets"
   ]
  },
  {
   "cell_type": "code",
   "execution_count": 5,
   "metadata": {},
   "outputs": [],
   "source": [
    "from pygame_widgets.button import Button\n",
    "from pygame_widgets.textbox import TextBox\n",
    "# Set yp pygame\n",
    "pygame.init()\n",
    "win = pygame.display.set_mode((600,600))\n",
    "# Creates the button with optional parameters\n",
    "button = Button(\n",
    "    win, 100, 100, 300, 100,\n",
    "    #Optional Parameters\n",
    "    text='Agregar', fontSize=50, margin=20, inactiveColour=(200,50,0),\n",
    "    hoverColour=(150,0,0), pressedColour=(0, 200, 0), radius=20,\n",
    "    onClick=lambda: agregarNumero() #Fundation to call when clicked on\n",
    ")\n",
    "button2 = Button(\n",
    "    win, 100, 210, 300, 100,\n",
    "    #Optional Parameters\n",
    "    text='ordenar', fontSize=50, margin=20, inactiveColour=(200,50,0),\n",
    "    hoverColour=(150,0,0), pressedColour=(0, 200, 20), radius=20,\n",
    "    onClick=lambda: ordenar() #Fundation to call when clicked on\n",
    ")\n",
    "tNumero = TextBox(win, 100, 10, 300, 70, fontsize=40)\n",
    "tResulado = TextBox(win, 100, 320, 300, 70, fontsize=40)\n",
    "run= True\n",
    "while run:\n",
    "    events = pygame.event.get()\n",
    "    for event in events:\n",
    "        if event.type == pygame.QUIT:\n",
    "            pygame.quit()\n",
    "            run = False\n",
    "            break\n",
    "\n",
    "    if run==False:\n",
    "        break\n",
    "    win.fill((255,255,255))\n",
    "\n",
    "    pygame_widgets.update(events) # Call once every loop to allow widegts to render and list\n",
    "    pygame.display.update()\n",
    "        "
   ]
  }
 ],
 "metadata": {
  "kernelspec": {
   "display_name": "Python 3.11.4 ('base')",
   "language": "python",
   "name": "python3"
  },
  "language_info": {
   "codemirror_mode": {
    "name": "ipython",
    "version": 3
   },
   "file_extension": ".py",
   "mimetype": "text/x-python",
   "name": "python",
   "nbconvert_exporter": "python",
   "pygments_lexer": "ipython3",
   "version": "3.11.4"
  },
  "orig_nbformat": 4,
  "vscode": {
   "interpreter": {
    "hash": "a5eed3cf3ceca44350e11012e115c479c63e7a3316cb626d505275d94b8d930d"
   }
  }
 },
 "nbformat": 4,
 "nbformat_minor": 2
}
